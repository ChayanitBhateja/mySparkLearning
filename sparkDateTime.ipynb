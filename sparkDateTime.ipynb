{
 "cells": [
  {
   "cell_type": "code",
   "execution_count": 1,
   "metadata": {},
   "outputs": [],
   "source": [
    "from pyspark.sql import SparkSession"
   ]
  },
  {
   "cell_type": "code",
   "execution_count": 2,
   "metadata": {},
   "outputs": [],
   "source": [
    "spark = SparkSession.builder.appName('dateTimeApp').getOrCreate()"
   ]
  },
  {
   "cell_type": "code",
   "execution_count": 3,
   "metadata": {},
   "outputs": [],
   "source": [
    "df = spark.read.csv('AAPL.csv', inferSchema=True,header = True)"
   ]
  },
  {
   "cell_type": "code",
   "execution_count": 6,
   "metadata": {},
   "outputs": [
    {
     "name": "stdout",
     "output_type": "stream",
     "text": [
      "root\n",
      " |-- Date: string (nullable = true)\n",
      " |-- Open: double (nullable = true)\n",
      " |-- High: double (nullable = true)\n",
      " |-- Low: double (nullable = true)\n",
      " |-- Close: double (nullable = true)\n",
      " |-- Adj Close: double (nullable = true)\n",
      " |-- Volume: long (nullable = true)\n",
      "\n"
     ]
    }
   ],
   "source": [
    "df.printSchema()"
   ]
  },
  {
   "cell_type": "code",
   "execution_count": 5,
   "metadata": {},
   "outputs": [
    {
     "name": "stdout",
     "output_type": "stream",
     "text": [
      "+----------+--------+\n",
      "|      Date|    Open|\n",
      "+----------+--------+\n",
      "|1980-12-12|0.128348|\n",
      "|1980-12-15| 0.12221|\n",
      "|1980-12-16|0.113281|\n",
      "|1980-12-17|0.115513|\n",
      "|1980-12-18|0.118862|\n",
      "|1980-12-19|0.126116|\n",
      "|1980-12-22|0.132254|\n",
      "|1980-12-23|0.137835|\n",
      "|1980-12-24|0.145089|\n",
      "|1980-12-26|0.158482|\n",
      "|1980-12-29|0.160714|\n",
      "|1980-12-30|0.157366|\n",
      "|1980-12-31|0.152902|\n",
      "|1981-01-02|0.154018|\n",
      "|1981-01-05|0.151228|\n",
      "|1981-01-06|0.144531|\n",
      "|1981-01-07|0.138393|\n",
      "|1981-01-08|0.135603|\n",
      "|1981-01-09|0.142299|\n",
      "|1981-01-12|0.142299|\n",
      "+----------+--------+\n",
      "only showing top 20 rows\n",
      "\n"
     ]
    }
   ],
   "source": [
    "df.select('Date','Open').show()"
   ]
  },
  {
   "cell_type": "code",
   "execution_count": 7,
   "metadata": {},
   "outputs": [],
   "source": [
    "from pyspark.sql.functions import dayofmonth, dayofyear, month, year, hour, date_format, format_number, weekofyear "
   ]
  },
  {
   "cell_type": "code",
   "execution_count": 12,
   "metadata": {},
   "outputs": [
    {
     "name": "stdout",
     "output_type": "stream",
     "text": [
      "+----------------+\n",
      "|dayofmonth(Date)|\n",
      "+----------------+\n",
      "|              12|\n",
      "|              15|\n",
      "|              16|\n",
      "|              17|\n",
      "|              18|\n",
      "|              19|\n",
      "|              22|\n",
      "|              23|\n",
      "|              24|\n",
      "|              26|\n",
      "|              29|\n",
      "|              30|\n",
      "|              31|\n",
      "|               2|\n",
      "|               5|\n",
      "|               6|\n",
      "|               7|\n",
      "|               8|\n",
      "|               9|\n",
      "|              12|\n",
      "+----------------+\n",
      "only showing top 20 rows\n",
      "\n"
     ]
    }
   ],
   "source": [
    "df.select(dayofmonth(df['Date'])).show()"
   ]
  },
  {
   "cell_type": "code",
   "execution_count": 30,
   "metadata": {},
   "outputs": [],
   "source": [
    "new_df = df.withColumn(\"Year\", year(df['Date']))"
   ]
  },
  {
   "cell_type": "code",
   "execution_count": 31,
   "metadata": {},
   "outputs": [],
   "source": [
    "new_avg_df = new_df.groupBy('Year').mean().select(['avg(Open)', 'Year'])"
   ]
  },
  {
   "cell_type": "code",
   "execution_count": 34,
   "metadata": {},
   "outputs": [],
   "source": [
    "new_avg_df = new_avg_df.withColumnRenamed('avg(Open)','avg_Open')"
   ]
  },
  {
   "cell_type": "code",
   "execution_count": 35,
   "metadata": {},
   "outputs": [
    {
     "name": "stdout",
     "output_type": "stream",
     "text": [
      "+-------------------+----+\n",
      "|           avg_Open|Year|\n",
      "+-------------------+----+\n",
      "| 0.3348390830039528|1990|\n",
      "| 0.3307461349206348|2003|\n",
      "|  4.585324422310758|2007|\n",
      "|  47.27785866533861|2018|\n",
      "| 30.043938484126986|2015|\n",
      "|   2.53527176494024|2006|\n",
      "|  16.89743334126985|2013|\n",
      "| 0.3710342094861658|1988|\n",
      "|0.16100549011857684|1997|\n",
      "|0.30404032539682535|1994|\n",
      "|  23.05495757142858|2014|\n",
      "| 51.967271698412695|2019|\n",
      "| 0.6325262182539684|2004|\n",
      "| 0.4683176758893279|1991|\n",
      "|0.08544564426877467|1982|\n",
      "| 0.3715632103174604|1989|\n",
      "|0.22364053149606278|1996|\n",
      "| 0.2724299523809524|1998|\n",
      "| 0.0910572579365079|1985|\n",
      "|  95.26766817391307|2020|\n",
      "+-------------------+----+\n",
      "only showing top 20 rows\n",
      "\n"
     ]
    }
   ],
   "source": [
    "new_avg_df.show()"
   ]
  },
  {
   "cell_type": "code",
   "execution_count": 44,
   "metadata": {},
   "outputs": [
    {
     "name": "stdout",
     "output_type": "stream",
     "text": [
      "+----+--------+\n",
      "|Year|avg_open|\n",
      "+----+--------+\n",
      "|2021|  134.08|\n",
      "|2020|   95.27|\n",
      "|2019|   51.97|\n",
      "|2018|   47.28|\n",
      "|2017|   37.61|\n",
      "|2016|   26.13|\n",
      "|2015|   30.04|\n",
      "|2014|   23.05|\n",
      "|2013|   16.90|\n",
      "|2012|   20.59|\n",
      "|2011|   13.00|\n",
      "|2010|    9.28|\n",
      "|2009|    5.24|\n",
      "|2008|    5.08|\n",
      "|2007|    4.59|\n",
      "|2006|    2.54|\n",
      "|2005|    1.67|\n",
      "|2004|    0.63|\n",
      "|2003|    0.33|\n",
      "|2002|    0.34|\n",
      "+----+--------+\n",
      "only showing top 20 rows\n",
      "\n"
     ]
    }
   ],
   "source": [
    "new_avg_df.select(['Year',format_number('avg_Open',2).alias('avg_open')]).orderBy(new_avg_df['Year'].desc()).show()"
   ]
  },
  {
   "cell_type": "code",
   "execution_count": null,
   "metadata": {},
   "outputs": [],
   "source": []
  }
 ],
 "metadata": {
  "interpreter": {
   "hash": "e2be0077739347b2974322db4d7d03f0e623a1e14eab2cd5d990479f0cbf61bf"
  },
  "kernelspec": {
   "display_name": "Python 3.10.4 64-bit (windows store)",
   "language": "python",
   "name": "python3"
  },
  "language_info": {
   "codemirror_mode": {
    "name": "ipython",
    "version": 3
   },
   "file_extension": ".py",
   "mimetype": "text/x-python",
   "name": "python",
   "nbconvert_exporter": "python",
   "pygments_lexer": "ipython3",
   "version": "3.10.4"
  },
  "orig_nbformat": 4
 },
 "nbformat": 4,
 "nbformat_minor": 2
}
